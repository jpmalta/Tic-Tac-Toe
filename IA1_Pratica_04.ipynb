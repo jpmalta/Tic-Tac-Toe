{
 "cells": [
  {
   "cell_type": "markdown",
   "id": "dd1260be",
   "metadata": {},
   "source": [
    "# Parte 1 - Jogo da Velha"
   ]
  },
  {
   "cell_type": "markdown",
   "id": "c35188fc",
   "metadata": {},
   "source": [
    "### Passo 1: Criar uma função que escreve na tela o tabuleiro"
   ]
  },
  {
   "cell_type": "code",
   "execution_count": null,
   "id": "93fe7227",
   "metadata": {},
   "outputs": [],
   "source": [
    "def mostra_tabuleiro(tabuleiro):\n",
    "    \n",
    "    print(\"-------------\") # Marca uma divisão entre telas para controle visual\n",
    "    \n",
    "    for linha in tabuleiro:\n",
    "        \n",
    "        print(\"|\", linha[0], \"|\", linha[1], \"|\", linha[2], \"|\")\n",
    "        \n",
    "        print(\"-------------\") # Marca uma divisão entre telas para controle visual"
   ]
  },
  {
   "cell_type": "markdown",
   "id": "63d47cf3",
   "metadata": {},
   "source": [
    "### Passo 2: Criar as regras para que o jogo seja finalizado"
   ]
  },
  {
   "cell_type": "code",
   "execution_count": null,
   "id": "7eb413fe",
   "metadata": {},
   "outputs": [],
   "source": [
    "def verifica_vitoria(tabuleiro, jogador):\n",
    "    \n",
    "    # Vamos verificar possibilidade de vitória por sequência horizontal\n",
    "    for i in range(0,3):\n",
    "        \n",
    "        if tabuleiro[i][0] == jogador and tabuleiro[i][1] == jogador and tabuleiro[i][2] == jogador:\n",
    "            \n",
    "            return True\n",
    "        \n",
    "    # Vamos verificar possibilidade de vitória por sequência vertical\n",
    "    for i in range(0,3):\n",
    "        \n",
    "        if tabuleiro[0][i] == jogador and tabuleiro[1][i] == jogador and tabuleiro[2][i] == jogador:\n",
    "            \n",
    "            return True\n",
    "        \n",
    "    # Vamos verificar possibilidade de vitória na diagonal\n",
    "    if tabuleiro[0][0] == jogador and tabuleiro[1][1] == jogador and tabuleiro[2][2] == jogador:\n",
    "        \n",
    "        return True\n",
    "    \n",
    "    if tabuleiro[0][2] == jogador and tabuleiro[1][1] == jogador and tabuleiro[2][0] == jogador:\n",
    "        \n",
    "        return True\n",
    "    \n",
    "    return False"
   ]
  },
  {
   "cell_type": "markdown",
   "id": "ec353494",
   "metadata": {},
   "source": [
    "### Passo 3: Criar a função que inicializa o jogo"
   ]
  },
  {
   "cell_type": "code",
   "execution_count": null,
   "id": "d2656d8d",
   "metadata": {},
   "outputs": [],
   "source": [
    "def start_jogo():\n",
    "    \n",
    "    # Criação da lista que gera o tabuleiro\n",
    "    tabuleiro = [\n",
    "        [\" \",\" \",\" \"],\n",
    "        [\" \",\" \",\" \"],\n",
    "        [\" \",\" \",\" \"]\n",
    "    ]\n",
    "    \n",
    "    # Jogadores existentes\n",
    "    jogadores = [\"X\",\"O\"]\n",
    "    \n",
    "    # Define o marcador que inicia o jogo\n",
    "    jogador_atual = jogadores[0]\n",
    "    \n",
    "    # Printa o tabuleiro na tela\n",
    "    mostra_tabuleiro(tabuleiro)\n",
    "    \n",
    "    # Definindo o posicionamento dos marcadores\n",
    "    for i in range(1,10):\n",
    "        \n",
    "        linha = int(input(f\"Jogador {jogador_atual} escolha uma linha 1 - 3: \")) - 1\n",
    "        coluna = int(input(f\"Jogador {jogador_atual} escolha uma coluna 1 - 3: \")) - 1\n",
    "        \n",
    "        # Verificando se a posicao escolhida e valida\n",
    "        if tabuleiro[linha][coluna] != \" \":\n",
    "            \n",
    "            print(\"Posição ocupada.\\nEscolha outra opção.\")\n",
    "            linha = int(input(f\"Jogador {jogador_atual} escolha uma linha 1 - 3: \")) - 1\n",
    "            coluna = int(input(f\"Jogador {jogador_atual} escolha uma coluna 1 - 3: \")) - 1\n",
    "               \n",
    "        tabuleiro[linha][coluna] = jogador_atual\n",
    "        mostra_tabuleiro(tabuleiro)\n",
    "        \n",
    "        if verifica_vitoria(tabuleiro, jogador_atual):\n",
    "            \n",
    "            print(f\"Jogador {jogador_atual} venceu!!!\")\n",
    "            return\n",
    "        \n",
    "        # Precisamos alterar entre os jogadores\n",
    "        jogador_atual = jogadores[i % 2]\n",
    "        \n",
    "    # Caso nenhuma das condições de vitória sejam encontradas, devemos considerar o resultado de empate\n",
    "    print(\"O jogo terminou empatado.\")"
   ]
  },
  {
   "cell_type": "code",
   "execution_count": null,
   "id": "c1b2ebbf",
   "metadata": {},
   "outputs": [],
   "source": [
    "start_jogo()"
   ]
  }
 ],
 "metadata": {
  "kernelspec": {
   "display_name": "Python 3 (ipykernel)",
   "language": "python",
   "name": "python3"
  },
  "language_info": {
   "codemirror_mode": {
    "name": "ipython",
    "version": 3
   },
   "file_extension": ".py",
   "mimetype": "text/x-python",
   "name": "python",
   "nbconvert_exporter": "python",
   "pygments_lexer": "ipython3",
   "version": "3.9.12"
  }
 },
 "nbformat": 4,
 "nbformat_minor": 5
}
